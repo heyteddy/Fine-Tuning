{
 "cells": [
  {
   "cell_type": "code",
   "execution_count": 1,
   "metadata": {},
   "outputs": [],
   "source": [
    "import json\n",
    "\n",
    "training_data = [{\"prompt\": \"빨강이\", \"completion\": \"Data Scientist\"},\n",
    "                 {\"prompt\": \"주황이\", \"completion\": \"Developer\"},\n",
    "                 {\"prompt\": \"노랑이\", \"completion\": \"Developer\"},\n",
    "                 {\"prompt\": \"초록이\", \"completion\": \"Developer\"},\n",
    "                 {\"prompt\": \"파랑이\", \"completion\": \"Developer\"},\n",
    "                 {\"prompt\": \"검둥이\", \"completion\": \"Data Scientist\"},\n",
    "                 {\"prompt\": \"보랑이\", \"completion\": \"Developer\"},\n",
    "                 {\"prompt\": \"남둥이\", \"completion\": \"Developer\"},\n",
    "                 {\"prompt\": \"하늘이\", \"completion\": \"Data Scientist\"},\n",
    "                 {\"prompt\": \"개나리\", \"completion\": \"Data Scientist\"}] "
   ]
  },
  {
   "cell_type": "code",
   "execution_count": 2,
   "metadata": {},
   "outputs": [],
   "source": [
    "# training_data의 각 항목을 JSONL 형식으로 train_data.jsonl 파일에 기록\n",
    "\n",
    "file_name = 'train_data.jsonl'\n",
    "\n",
    "with open(file_name, \"w\", encoding=\"utf-8\") as output_file:\n",
    "    for entry in training_data:\n",
    "        json.dump(entry, output_file)\n",
    "        output_file.write(\"\\n\")"
   ]
  },
  {
   "cell_type": "code",
   "execution_count": 3,
   "metadata": {},
   "outputs": [],
   "source": [
    "# OpenAI의 API를 사용하여 특정 데이터 파일을 업로드하고, 이를 사용해 모델을 파인튜닝(fine-tuning)하려는 작업을 수행하는 코드\n",
    "from openai import OpenAI\n",
    "\n",
    "# OpenAI 클라이언트 생성\n",
    "client = OpenAI(api_key=\"API KEY\")\n",
    "\n",
    "# 파일 업로드 및 파인튜닝 준비\n",
    "upload_response = client.files.create(\n",
    "    file=open(file_name, 'rb'),\n",
    "    purpose='fine-tune'\n",
    ")\n",
    "\n",
    "# 업로드된 파일 ID\n",
    "# https://platform.openai.com/storage/files/file-zKUjo5EIarZZMfgHyBZwbidn 에서도 확인 가능\n",
    "file_id = upload_response.id"
   ]
  },
  {
   "cell_type": "code",
   "execution_count": 4,
   "metadata": {},
   "outputs": [
    {
     "data": {
      "text/plain": [
       "'file-5kEL7RKoV5HwHhmMLcRYdi7R'"
      ]
     },
     "execution_count": 4,
     "metadata": {},
     "output_type": "execute_result"
    }
   ],
   "source": [
    "file_id"
   ]
  },
  {
   "cell_type": "code",
   "execution_count": 6,
   "metadata": {},
   "outputs": [
    {
     "data": {
      "text/plain": [
       "FineTuningJob(id='ftjob-1x6aeNlDYprbCUHjEzZKpQvV', created_at=1724841237, error=Error(code=None, message=None, param=None), fine_tuned_model=None, finished_at=None, hyperparameters=Hyperparameters(n_epochs='auto', batch_size='auto', learning_rate_multiplier='auto'), model='davinci-002', object='fine_tuning.job', organization_id='org-RB4JrJn9lUm6P7io84Be0PH4', result_files=[], seed=444241918, status='validating_files', trained_tokens=None, training_file='file-5kEL7RKoV5HwHhmMLcRYdi7R', validation_file=None, estimated_finish=None, integrations=[], user_provided_suffix=None)"
      ]
     },
     "execution_count": 6,
     "metadata": {},
     "output_type": "execute_result"
    }
   ],
   "source": [
    "# Fine-Tuning 모델 생성\n",
    "fine_tune_model = client.fine_tuning.jobs.create(\n",
    "    training_file=file_id,\n",
    "    model=\"davinci-002\"\n",
    ")\n",
    "\n",
    "fine_tune_model"
   ]
  },
  {
   "cell_type": "code",
   "execution_count": 8,
   "metadata": {},
   "outputs": [
    {
     "data": {
      "text/plain": [
       "FineTuningJob(id='ftjob-1x6aeNlDYprbCUHjEzZKpQvV', created_at=1724841237, error=Error(code=None, message=None, param=None), fine_tuned_model=None, finished_at=None, hyperparameters=Hyperparameters(n_epochs=10, batch_size=1, learning_rate_multiplier=16), model='davinci-002', object='fine_tuning.job', organization_id='org-RB4JrJn9lUm6P7io84Be0PH4', result_files=[], seed=444241918, status='running', trained_tokens=None, training_file='file-5kEL7RKoV5HwHhmMLcRYdi7R', validation_file=None, estimated_finish=None, integrations=[], user_provided_suffix=None)"
      ]
     },
     "execution_count": 8,
     "metadata": {},
     "output_type": "execute_result"
    }
   ],
   "source": [
    "# Fine-Tuning job 리스트 10개 나열\n",
    "client.fine_tuning.jobs.list(limit=10)\n",
    "\n",
    "# Fine-Tuning 상태 확인\n",
    "client.fine_tuning.jobs.retrieve(\"ftjob-1x6aeNlDYprbCUHjEzZKpQvV\") "
   ]
  },
  {
   "cell_type": "code",
   "execution_count": 11,
   "metadata": {},
   "outputs": [
    {
     "data": {
      "text/plain": [
       "SyncCursorPage[FineTuningJobEvent](data=[FineTuningJobEvent(id='ftevent-tRmfqSrZpD6GSQzJP5oFFVZn', created_at=1724841554, level='info', message='The job has successfully completed', object='fine_tuning.job.event', data={}, type='message'), FineTuningJobEvent(id='ftevent-5LJaCa0eq5gMylSVyPRdnvuw', created_at=1724841554, level='info', message='The job has successfully completed', object='fine_tuning.job.event', data={}, type='message'), FineTuningJobEvent(id='ftevent-uBcge7XotAJWPJL2izwUhfsX', created_at=1724841544, level='info', message='New fine-tuned model created', object='fine_tuning.job.event', data={}, type='message'), FineTuningJobEvent(id='ftevent-93yFYGNGFkdhG4QbsG3z3Izk', created_at=1724841543, level='info', message='Checkpoint created at step 90', object='fine_tuning.job.event', data={}, type='message'), FineTuningJobEvent(id='ftevent-oK4MmRV659WJjx17kP4mdueo', created_at=1724841543, level='info', message='Checkpoint created at step 80', object='fine_tuning.job.event', data={}, type='message'), FineTuningJobEvent(id='ftevent-e6bjxbWwlv2FY3GMQxSp66FT', created_at=1724841531, level='info', message='Step 100/100: training loss=0.00', object='fine_tuning.job.event', data={'step': 100, 'train_loss': 4.404589344630949e-05, 'total_steps': 100, 'train_mean_token_accuracy': 1.0}, type='metrics'), FineTuningJobEvent(id='ftevent-K5IVKzZN6V2P4TL037faif2V', created_at=1724841518, level='info', message='Step 99/100: training loss=0.00', object='fine_tuning.job.event', data={'step': 99, 'train_loss': 0.0005228764493949711, 'total_steps': 100, 'train_mean_token_accuracy': 1.0}, type='metrics'), FineTuningJobEvent(id='ftevent-v4eyKl13uOdtIqgTIqdbUgOC', created_at=1724841515, level='info', message='Step 98/100: training loss=0.00', object='fine_tuning.job.event', data={'step': 98, 'train_loss': 0.0, 'total_steps': 100, 'train_mean_token_accuracy': 1.0}, type='metrics'), FineTuningJobEvent(id='ftevent-Xh5voCgWogsWJZkpVaIXYlCy', created_at=1724841515, level='info', message='Step 97/100: training loss=0.00', object='fine_tuning.job.event', data={'step': 97, 'train_loss': 0.0, 'total_steps': 100, 'train_mean_token_accuracy': 1.0}, type='metrics'), FineTuningJobEvent(id='ftevent-CJ0EkfaVlgEDgs1Ab6quBznL', created_at=1724841515, level='info', message='Step 96/100: training loss=0.00', object='fine_tuning.job.event', data={'step': 96, 'train_loss': 0.0, 'total_steps': 100, 'train_mean_token_accuracy': 1.0}, type='metrics'), FineTuningJobEvent(id='ftevent-hq9wkoDvgkE3kInsgqSfbRrw', created_at=1724841515, level='info', message='Step 95/100: training loss=0.00', object='fine_tuning.job.event', data={'step': 95, 'train_loss': 0.0, 'total_steps': 100, 'train_mean_token_accuracy': 1.0}, type='metrics'), FineTuningJobEvent(id='ftevent-X2NToTFvsyQAEksV82aD2G3B', created_at=1724841515, level='info', message='Step 94/100: training loss=0.00', object='fine_tuning.job.event', data={'step': 94, 'train_loss': 0.0, 'total_steps': 100, 'train_mean_token_accuracy': 1.0}, type='metrics'), FineTuningJobEvent(id='ftevent-zVJmmvkmN8pQM5m86d1umGAc', created_at=1724841515, level='info', message='Step 93/100: training loss=0.00', object='fine_tuning.job.event', data={'step': 93, 'train_loss': 1.1920928244535389e-07, 'total_steps': 100, 'train_mean_token_accuracy': 1.0}, type='metrics'), FineTuningJobEvent(id='ftevent-NNPuP3Ua529oe4BwddquwWSk', created_at=1724841515, level='info', message='Step 92/100: training loss=0.00', object='fine_tuning.job.event', data={'step': 92, 'train_loss': 1.0132779380001011e-06, 'total_steps': 100, 'train_mean_token_accuracy': 1.0}, type='metrics'), FineTuningJobEvent(id='ftevent-Vv3hDYn8anEp7RsuTsU6APrY', created_at=1724841513, level='info', message='Step 91/100: training loss=0.00', object='fine_tuning.job.event', data={'step': 91, 'train_loss': 2.9802316703353426e-07, 'total_steps': 100, 'train_mean_token_accuracy': 1.0}, type='metrics'), FineTuningJobEvent(id='ftevent-oIj2jOxBKddTPol2dkAXifmm', created_at=1724841513, level='info', message='Step 90/100: training loss=0.00', object='fine_tuning.job.event', data={'step': 90, 'train_loss': 0.0, 'total_steps': 100, 'train_mean_token_accuracy': 1.0}, type='metrics'), FineTuningJobEvent(id='ftevent-Ua8Ji3VdZS7g8lKiLmgAo9SR', created_at=1724841503, level='info', message='Step 89/100: training loss=0.00', object='fine_tuning.job.event', data={'step': 89, 'train_loss': 0.0, 'total_steps': 100, 'train_mean_token_accuracy': 1.0}, type='metrics'), FineTuningJobEvent(id='ftevent-2uE7LMKVKGDecfabdMjBwf1c', created_at=1724841501, level='info', message='Step 88/100: training loss=0.00', object='fine_tuning.job.event', data={'step': 88, 'train_loss': 1.8298436771146953e-05, 'total_steps': 100, 'train_mean_token_accuracy': 1.0}, type='metrics'), FineTuningJobEvent(id='ftevent-WCP1eJM3gqIYXe3XjrugkFFP', created_at=1724841501, level='info', message='Step 87/100: training loss=0.00', object='fine_tuning.job.event', data={'step': 87, 'train_loss': 4.535810148809105e-05, 'total_steps': 100, 'train_mean_token_accuracy': 1.0}, type='metrics'), FineTuningJobEvent(id='ftevent-Vvhb5vYjjcOWaFa8gnbixr3e', created_at=1724841501, level='info', message='Step 86/100: training loss=0.00', object='fine_tuning.job.event', data={'step': 86, 'train_loss': 0.0003210980794392526, 'total_steps': 100, 'train_mean_token_accuracy': 1.0}, type='metrics')], object='list', has_more=True)"
      ]
     },
     "execution_count": 11,
     "metadata": {},
     "output_type": "execute_result"
    }
   ],
   "source": [
    "# 위 status=succeeded 상태이면 추가학습이 완성되어 모델이 생성된 상태\n",
    "# Fine-Tuning job에서 10개의 이벤트 나열\n",
    "fine_tune_events = client.fine_tuning.jobs.list_events(fine_tuning_job_id=fine_tune_model.id)\n",
    "fine_tune_events"
   ]
  },
  {
   "cell_type": "code",
   "execution_count": 12,
   "metadata": {},
   "outputs": [
    {
     "name": "stdout",
     "output_type": "stream",
     "text": [
      "Developer ScientistData ScientistData ScientistData ScientistData ScientistData ScientistData ScientistData Scientist\n"
     ]
    }
   ],
   "source": [
    "# Fine-Tuning한 모델 사용\n",
    "# DashBoard에서 Job ID 가져옴\n",
    "completion = client.completions.create(\n",
    "    model=\"ft:davinci-002:personal::A1AMpVE0\",\n",
    "    prompt=\"검둥이는?\")\n",
    "\n",
    "print(completion.choices[0].text)\n",
    "\n",
    "# 학습데이터가 많이 없어서 Developer라는 답변이 있을 수 있다."
   ]
  },
  {
   "cell_type": "code",
   "execution_count": 13,
   "metadata": {},
   "outputs": [
    {
     "name": "stdout",
     "output_type": "stream",
     "text": [
      "DeveloperDeveloperDeveloperDeveloperDeveloperDeveloperDeveloperDeveloperDeveloperDeveloperDeveloperDeveloperDeveloperDeveloperDeveloperDeveloper\n"
     ]
    }
   ],
   "source": [
    "completion = client.completions.create(\n",
    "    model=\"ft:davinci-002:personal::A1AMpVE0\",\n",
    "    prompt=\"주황이는?\")\n",
    "\n",
    "print(completion.choices[0].text)"
   ]
  },
  {
   "cell_type": "code",
   "execution_count": null,
   "metadata": {},
   "outputs": [],
   "source": []
  }
 ],
 "metadata": {
  "kernelspec": {
   "display_name": "base",
   "language": "python",
   "name": "python3"
  },
  "language_info": {
   "codemirror_mode": {
    "name": "ipython",
    "version": 3
   },
   "file_extension": ".py",
   "mimetype": "text/x-python",
   "name": "python",
   "nbconvert_exporter": "python",
   "pygments_lexer": "ipython3",
   "version": "3.11.7"
  }
 },
 "nbformat": 4,
 "nbformat_minor": 2
}
